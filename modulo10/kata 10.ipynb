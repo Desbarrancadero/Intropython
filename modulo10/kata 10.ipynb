{
 "cells": [
  {
   "cell_type": "code",
   "execution_count": 59,
   "metadata": {},
   "outputs": [
    {
     "ename": "FileNotFoundError",
     "evalue": "[Errno 2] No such file or directory: '/path/to/mars.jpg'",
     "output_type": "error",
     "traceback": [
      "\u001b[1;31m---------------------------------------------------------------------------\u001b[0m",
      "\u001b[1;31mFileNotFoundError\u001b[0m                         Traceback (most recent call last)",
      "\u001b[1;32mc:\\Users\\usuario\\Documents\\Launch\\CursoIntroPython-main\\Módulo 10 - Manejo de errores\\kata 10.ipynb Cell 1'\u001b[0m in \u001b[0;36m<module>\u001b[1;34m\u001b[0m\n\u001b[1;32m----> <a href='vscode-notebook-cell:/c%3A/Users/usuario/Documents/Launch/CursoIntroPython-main/M%C3%B3dulo%2010%20-%20Manejo%20de%20errores/kata%2010.ipynb#ch0000012?line=0'>1</a>\u001b[0m \u001b[39mopen\u001b[39;49m(\u001b[39m\"\u001b[39;49m\u001b[39m/path/to/mars.jpg\u001b[39;49m\u001b[39m\"\u001b[39;49m)\n",
      "\u001b[1;31mFileNotFoundError\u001b[0m: [Errno 2] No such file or directory: '/path/to/mars.jpg'"
     ]
    }
   ],
   "source": [
    "open(\"/path/to/mars.jpg\")"
   ]
  },
  {
   "cell_type": "code",
   "execution_count": 84,
   "metadata": {},
   "outputs": [
    {
     "name": "stdout",
     "output_type": "stream",
     "text": [
      "No pude encontrar config.txt\n"
     ]
    }
   ],
   "source": [
    "try:\n",
    "    open('config.txt')\n",
    "except FileNotFoundError:\n",
    "    print('No pude encontrar config.txt')"
   ]
  },
  {
   "cell_type": "code",
   "execution_count": 1,
   "metadata": {},
   "outputs": [],
   "source": [
    "def main():\n",
    "    try:\n",
    "        configuration = open('config.txt')\n",
    "    except FileNotFoundError:\n",
    "        print(\"Couldn't find the config.txt file!\")\n",
    "    except IsADirectoryError:\n",
    "        print(\"Found config.txt but it is a directory, couldn't read it\")"
   ]
  },
  {
   "cell_type": "code",
   "execution_count": 119,
   "metadata": {},
   "outputs": [
    {
     "name": "stdout",
     "output_type": "stream",
     "text": [
      "Se ha creado el directorio: config.txt \n"
     ]
    }
   ],
   "source": [
    "# decodigo.com\n",
    "import os\n",
    "# Se define el nombre de la carpeta o directorio a crear\n",
    "config = \"config.txt\"\n",
    "try:\n",
    "    os.mkdir(config)\n",
    "except OSError:\n",
    "    print(\"La creación del directorio %s falló\" % config)\n",
    "else:\n",
    "    print(\"Se ha creado el directorio: %s \" % config)\n",
    "\n"
   ]
  },
  {
   "cell_type": "code",
   "execution_count": 22,
   "metadata": {},
   "outputs": [
    {
     "ename": "PermissionError",
     "evalue": "[Errno 13] Permission denied: 'config.txt'",
     "output_type": "error",
     "traceback": [
      "\u001b[1;31m---------------------------------------------------------------------------\u001b[0m",
      "\u001b[1;31mPermissionError\u001b[0m                           Traceback (most recent call last)",
      "\u001b[1;32mc:\\Users\\usuario\\Documents\\Launch\\CursoIntroPython-main\\modulo10\\kata 10.ipynb Cell 5'\u001b[0m in \u001b[0;36m<module>\u001b[1;34m\u001b[0m\n\u001b[0;32m      <a href='vscode-notebook-cell:/c%3A/Users/usuario/Documents/Launch/CursoIntroPython-main/modulo10/kata%2010.ipynb#ch0000004?line=4'>5</a>\u001b[0m         \u001b[39mprint\u001b[39m(\u001b[39m\"\u001b[39m\u001b[39mCouldn\u001b[39m\u001b[39m'\u001b[39m\u001b[39mt find the config.txt file!\u001b[39m\u001b[39m\"\u001b[39m)\n\u001b[0;32m      <a href='vscode-notebook-cell:/c%3A/Users/usuario/Documents/Launch/CursoIntroPython-main/modulo10/kata%2010.ipynb#ch0000004?line=7'>8</a>\u001b[0m \u001b[39mif\u001b[39;00m \u001b[39m__name__\u001b[39m \u001b[39m==\u001b[39m \u001b[39m'\u001b[39m\u001b[39m__main__\u001b[39m\u001b[39m'\u001b[39m:\n\u001b[1;32m----> <a href='vscode-notebook-cell:/c%3A/Users/usuario/Documents/Launch/CursoIntroPython-main/modulo10/kata%2010.ipynb#ch0000004?line=8'>9</a>\u001b[0m     main()\n",
      "\u001b[1;32mc:\\Users\\usuario\\Documents\\Launch\\CursoIntroPython-main\\modulo10\\kata 10.ipynb Cell 5'\u001b[0m in \u001b[0;36mmain\u001b[1;34m()\u001b[0m\n\u001b[0;32m      <a href='vscode-notebook-cell:/c%3A/Users/usuario/Documents/Launch/CursoIntroPython-main/modulo10/kata%2010.ipynb#ch0000004?line=0'>1</a>\u001b[0m \u001b[39mdef\u001b[39;00m \u001b[39mmain\u001b[39m():\n\u001b[0;32m      <a href='vscode-notebook-cell:/c%3A/Users/usuario/Documents/Launch/CursoIntroPython-main/modulo10/kata%2010.ipynb#ch0000004?line=1'>2</a>\u001b[0m     \u001b[39mtry\u001b[39;00m:\n\u001b[1;32m----> <a href='vscode-notebook-cell:/c%3A/Users/usuario/Documents/Launch/CursoIntroPython-main/modulo10/kata%2010.ipynb#ch0000004?line=2'>3</a>\u001b[0m         configuration \u001b[39m=\u001b[39m \u001b[39mopen\u001b[39;49m(\u001b[39m'\u001b[39;49m\u001b[39mconfig.txt\u001b[39;49m\u001b[39m'\u001b[39;49m)\n\u001b[0;32m      <a href='vscode-notebook-cell:/c%3A/Users/usuario/Documents/Launch/CursoIntroPython-main/modulo10/kata%2010.ipynb#ch0000004?line=3'>4</a>\u001b[0m     \u001b[39mexcept\u001b[39;00m \u001b[39mFileNotFoundError\u001b[39;00m:\n\u001b[0;32m      <a href='vscode-notebook-cell:/c%3A/Users/usuario/Documents/Launch/CursoIntroPython-main/modulo10/kata%2010.ipynb#ch0000004?line=4'>5</a>\u001b[0m         \u001b[39mprint\u001b[39m(\u001b[39m\"\u001b[39m\u001b[39mCouldn\u001b[39m\u001b[39m'\u001b[39m\u001b[39mt find the config.txt file!\u001b[39m\u001b[39m\"\u001b[39m)\n",
      "\u001b[1;31mPermissionError\u001b[0m: [Errno 13] Permission denied: 'config.txt'"
     ]
    }
   ],
   "source": [
    "def main():\n",
    "    try:\n",
    "        configuration = open('config.txt')\n",
    "    except FileNotFoundError:\n",
    "        print(\"Couldn't find the config.txt file!\")\n",
    "\n",
    "\n",
    "if __name__ == '__main__':\n",
    "    main()"
   ]
  },
  {
   "cell_type": "code",
   "execution_count": 2,
   "metadata": {},
   "outputs": [
    {
     "name": "stdout",
     "output_type": "stream",
     "text": [
      "Couldn't find the config.txt file!\n"
     ]
    }
   ],
   "source": [
    "def main():\n",
    "    try:\n",
    "        configuration = open('config.txt')\n",
    "    except Exception:\n",
    "        print(\"Couldn't find the config.txt file!\")\n",
    "\n",
    "if __name__ == '__main__':\n",
    "    main()"
   ]
  },
  {
   "cell_type": "code",
   "execution_count": 28,
   "metadata": {},
   "outputs": [
    {
     "ename": "PermissionError",
     "evalue": "[Errno 13] Permission denied: 'config.txt'",
     "output_type": "error",
     "traceback": [
      "\u001b[1;31m---------------------------------------------------------------------------\u001b[0m",
      "\u001b[1;31mPermissionError\u001b[0m                           Traceback (most recent call last)",
      "\u001b[1;32mc:\\Users\\usuario\\Documents\\Launch\\CursoIntroPython-main\\modulo10\\kata 10.ipynb Cell 7'\u001b[0m in \u001b[0;36m<module>\u001b[1;34m\u001b[0m\n\u001b[0;32m      <a href='vscode-notebook-cell:/c%3A/Users/usuario/Documents/Launch/CursoIntroPython-main/modulo10/kata%2010.ipynb#ch0000006?line=6'>7</a>\u001b[0m         \u001b[39mprint\u001b[39m(\u001b[39m\"\u001b[39m\u001b[39mFound config.txt but it is a directory, couldn\u001b[39m\u001b[39m'\u001b[39m\u001b[39mt read it\u001b[39m\u001b[39m\"\u001b[39m)\n\u001b[0;32m      <a href='vscode-notebook-cell:/c%3A/Users/usuario/Documents/Launch/CursoIntroPython-main/modulo10/kata%2010.ipynb#ch0000006?line=8'>9</a>\u001b[0m \u001b[39mif\u001b[39;00m \u001b[39m__name__\u001b[39m \u001b[39m==\u001b[39m \u001b[39m'\u001b[39m\u001b[39m__main__\u001b[39m\u001b[39m'\u001b[39m:\n\u001b[1;32m---> <a href='vscode-notebook-cell:/c%3A/Users/usuario/Documents/Launch/CursoIntroPython-main/modulo10/kata%2010.ipynb#ch0000006?line=9'>10</a>\u001b[0m     main()\n",
      "\u001b[1;32mc:\\Users\\usuario\\Documents\\Launch\\CursoIntroPython-main\\modulo10\\kata 10.ipynb Cell 7'\u001b[0m in \u001b[0;36mmain\u001b[1;34m()\u001b[0m\n\u001b[0;32m      <a href='vscode-notebook-cell:/c%3A/Users/usuario/Documents/Launch/CursoIntroPython-main/modulo10/kata%2010.ipynb#ch0000006?line=0'>1</a>\u001b[0m \u001b[39mdef\u001b[39;00m \u001b[39mmain\u001b[39m():\n\u001b[0;32m      <a href='vscode-notebook-cell:/c%3A/Users/usuario/Documents/Launch/CursoIntroPython-main/modulo10/kata%2010.ipynb#ch0000006?line=1'>2</a>\u001b[0m     \u001b[39mtry\u001b[39;00m:\n\u001b[1;32m----> <a href='vscode-notebook-cell:/c%3A/Users/usuario/Documents/Launch/CursoIntroPython-main/modulo10/kata%2010.ipynb#ch0000006?line=2'>3</a>\u001b[0m         configuration \u001b[39m=\u001b[39m \u001b[39mopen\u001b[39;49m(\u001b[39m'\u001b[39;49m\u001b[39mconfig.txt\u001b[39;49m\u001b[39m'\u001b[39;49m)\n\u001b[0;32m      <a href='vscode-notebook-cell:/c%3A/Users/usuario/Documents/Launch/CursoIntroPython-main/modulo10/kata%2010.ipynb#ch0000006?line=3'>4</a>\u001b[0m     \u001b[39mexcept\u001b[39;00m \u001b[39mFileNotFoundError\u001b[39;00m:\n\u001b[0;32m      <a href='vscode-notebook-cell:/c%3A/Users/usuario/Documents/Launch/CursoIntroPython-main/modulo10/kata%2010.ipynb#ch0000006?line=4'>5</a>\u001b[0m         \u001b[39mprint\u001b[39m(\u001b[39m\"\u001b[39m\u001b[39mCouldn\u001b[39m\u001b[39m'\u001b[39m\u001b[39mt find the config.txt file!\u001b[39m\u001b[39m\"\u001b[39m)\n",
      "\u001b[1;31mPermissionError\u001b[0m: [Errno 13] Permission denied: 'config.txt'"
     ]
    }
   ],
   "source": [
    "def main():\n",
    "    try:\n",
    "        configuration = open('config.txt')\n",
    "    except FileNotFoundError:\n",
    "        print(\"Couldn't find the config.txt file!\")\n",
    "    except IsADirectoryError:\n",
    "        print(\"Found config.txt but it is a directory, couldn't read it\")\n",
    "\n",
    "if __name__ == '__main__':\n",
    "    main()"
   ]
  },
  {
   "cell_type": "code",
   "execution_count": 29,
   "metadata": {},
   "outputs": [
    {
     "ename": "PermissionError",
     "evalue": "[Errno 13] Permission denied: 'config.txt'",
     "output_type": "error",
     "traceback": [
      "\u001b[1;31m---------------------------------------------------------------------------\u001b[0m",
      "\u001b[1;31mPermissionError\u001b[0m                           Traceback (most recent call last)",
      "\u001b[1;32mc:\\Users\\usuario\\Documents\\Launch\\CursoIntroPython-main\\modulo10\\kata 10.ipynb Cell 8'\u001b[0m in \u001b[0;36m<module>\u001b[1;34m\u001b[0m\n\u001b[0;32m      <a href='vscode-notebook-cell:/c%3A/Users/usuario/Documents/Launch/CursoIntroPython-main/modulo10/kata%2010.ipynb#ch0000007?line=8'>9</a>\u001b[0m         \u001b[39mprint\u001b[39m(\u001b[39m\"\u001b[39m\u001b[39mFilesystem under heavy load, can\u001b[39m\u001b[39m'\u001b[39m\u001b[39mt complete reading configuration file\u001b[39m\u001b[39m\"\u001b[39m)\n\u001b[0;32m     <a href='vscode-notebook-cell:/c%3A/Users/usuario/Documents/Launch/CursoIntroPython-main/modulo10/kata%2010.ipynb#ch0000007?line=10'>11</a>\u001b[0m \u001b[39mif\u001b[39;00m \u001b[39m__name__\u001b[39m \u001b[39m==\u001b[39m \u001b[39m'\u001b[39m\u001b[39m__main__\u001b[39m\u001b[39m'\u001b[39m:\n\u001b[1;32m---> <a href='vscode-notebook-cell:/c%3A/Users/usuario/Documents/Launch/CursoIntroPython-main/modulo10/kata%2010.ipynb#ch0000007?line=11'>12</a>\u001b[0m     main()\n",
      "\u001b[1;32mc:\\Users\\usuario\\Documents\\Launch\\CursoIntroPython-main\\modulo10\\kata 10.ipynb Cell 8'\u001b[0m in \u001b[0;36mmain\u001b[1;34m()\u001b[0m\n\u001b[0;32m      <a href='vscode-notebook-cell:/c%3A/Users/usuario/Documents/Launch/CursoIntroPython-main/modulo10/kata%2010.ipynb#ch0000007?line=0'>1</a>\u001b[0m \u001b[39mdef\u001b[39;00m \u001b[39mmain\u001b[39m():\n\u001b[0;32m      <a href='vscode-notebook-cell:/c%3A/Users/usuario/Documents/Launch/CursoIntroPython-main/modulo10/kata%2010.ipynb#ch0000007?line=1'>2</a>\u001b[0m     \u001b[39mtry\u001b[39;00m:\n\u001b[1;32m----> <a href='vscode-notebook-cell:/c%3A/Users/usuario/Documents/Launch/CursoIntroPython-main/modulo10/kata%2010.ipynb#ch0000007?line=2'>3</a>\u001b[0m         configuration \u001b[39m=\u001b[39m \u001b[39mopen\u001b[39;49m(\u001b[39m'\u001b[39;49m\u001b[39mconfig.txt\u001b[39;49m\u001b[39m'\u001b[39;49m)\n\u001b[0;32m      <a href='vscode-notebook-cell:/c%3A/Users/usuario/Documents/Launch/CursoIntroPython-main/modulo10/kata%2010.ipynb#ch0000007?line=3'>4</a>\u001b[0m     \u001b[39mexcept\u001b[39;00m \u001b[39mFileNotFoundError\u001b[39;00m:\n\u001b[0;32m      <a href='vscode-notebook-cell:/c%3A/Users/usuario/Documents/Launch/CursoIntroPython-main/modulo10/kata%2010.ipynb#ch0000007?line=4'>5</a>\u001b[0m         \u001b[39mprint\u001b[39m(\u001b[39m\"\u001b[39m\u001b[39mCouldn\u001b[39m\u001b[39m'\u001b[39m\u001b[39mt find the config.txt file!\u001b[39m\u001b[39m\"\u001b[39m)\n",
      "\u001b[1;31mPermissionError\u001b[0m: [Errno 13] Permission denied: 'config.txt'"
     ]
    }
   ],
   "source": [
    "def main():\n",
    "    try:\n",
    "        configuration = open('config.txt')\n",
    "    except FileNotFoundError:\n",
    "        print(\"Couldn't find the config.txt file!\")\n",
    "    except IsADirectoryError:\n",
    "        print(\"Found config.txt but it is a directory, couldn't read it\")\n",
    "    except (BlockingIOError, TimeoutError):\n",
    "        print(\"Filesystem under heavy load, can't complete reading configuration file\")\n",
    "\n",
    "if __name__ == '__main__':\n",
    "    main()"
   ]
  },
  {
   "cell_type": "code",
   "execution_count": 32,
   "metadata": {},
   "outputs": [
    {
     "name": "stdout",
     "output_type": "stream",
     "text": [
      "got a problem intentandolo leer [Errno 2] No such file or directory: 'mars-jpg'\n"
     ]
    }
   ],
   "source": [
    "try:\n",
    "    open(\"mars-jpg\")\n",
    "except FileNotFoundError as err:\n",
    "    print(\"got a problem intentandolo leer\",err)"
   ]
  },
  {
   "cell_type": "code",
   "execution_count": 39,
   "metadata": {},
   "outputs": [
    {
     "name": "stdout",
     "output_type": "stream",
     "text": [
      "No pude leer configtxt\n"
     ]
    }
   ],
   "source": [
    "try: \n",
    "    open(\"config.txt\")\n",
    "except OSError as err:\n",
    "    if err.errno == 2:\n",
    "        print( \"no pue encontrar config.txt\")\n",
    "    elif err.errno == 13:\n",
    "        print( \"No pude leer configtxt\")\n"
   ]
  },
  {
   "cell_type": "code",
   "execution_count": 49,
   "metadata": {},
   "outputs": [
    {
     "ename": "RuntimeError",
     "evalue": "No hay suficiente agua para 5 astronautas después de 2 dias",
     "output_type": "error",
     "traceback": [
      "\u001b[1;31m---------------------------------------------------------------------------\u001b[0m",
      "\u001b[1;31mRuntimeError\u001b[0m                              Traceback (most recent call last)",
      "\u001b[1;32mc:\\Users\\usuario\\Documents\\Launch\\CursoIntroPython-main\\modulo10\\kata 10.ipynb Cell 11'\u001b[0m in \u001b[0;36m<module>\u001b[1;34m\u001b[0m\n\u001b[0;32m      <a href='vscode-notebook-cell:/c%3A/Users/usuario/Documents/Launch/CursoIntroPython-main/modulo10/kata%2010.ipynb#ch0000010?line=5'>6</a>\u001b[0m         \u001b[39mraise\u001b[39;00m \u001b[39mRuntimeError\u001b[39;00m (\u001b[39mf\u001b[39m\u001b[39m'\u001b[39m\u001b[39mNo hay suficiente agua para \u001b[39m\u001b[39m{\u001b[39;00mastronautas\u001b[39m}\u001b[39;00m\u001b[39m astronautas después de \u001b[39m\u001b[39m{\u001b[39;00mdias_faltantes\u001b[39m}\u001b[39;00m\u001b[39m dias\u001b[39m\u001b[39m'\u001b[39m)\n\u001b[0;32m      <a href='vscode-notebook-cell:/c%3A/Users/usuario/Documents/Launch/CursoIntroPython-main/modulo10/kata%2010.ipynb#ch0000010?line=6'>7</a>\u001b[0m     \u001b[39mreturn\u001b[39;00m (\u001b[39mf\u001b[39m\u001b[39m'\u001b[39m\u001b[39mEl agua total después de \u001b[39m\u001b[39m{\u001b[39;00mdias_faltantes\u001b[39m}\u001b[39;00m\u001b[39m dias es: \u001b[39m\u001b[39m{\u001b[39;00mtotal_agua_restante\u001b[39m}\u001b[39;00m\u001b[39m'\u001b[39m)\n\u001b[1;32m----> <a href='vscode-notebook-cell:/c%3A/Users/usuario/Documents/Launch/CursoIntroPython-main/modulo10/kata%2010.ipynb#ch0000010?line=8'>9</a>\u001b[0m \u001b[39mprint\u001b[39m(agua_restante (\u001b[39m5\u001b[39;49m, \u001b[39m100\u001b[39;49m, \u001b[39m2\u001b[39;49m))\n",
      "\u001b[1;32mc:\\Users\\usuario\\Documents\\Launch\\CursoIntroPython-main\\modulo10\\kata 10.ipynb Cell 11'\u001b[0m in \u001b[0;36magua_restante\u001b[1;34m(astronautas, agua_restante, dias_faltantes)\u001b[0m\n\u001b[0;32m      <a href='vscode-notebook-cell:/c%3A/Users/usuario/Documents/Launch/CursoIntroPython-main/modulo10/kata%2010.ipynb#ch0000010?line=3'>4</a>\u001b[0m total_agua_restante \u001b[39m=\u001b[39m agua_restante \u001b[39m-\u001b[39m uso_total\n\u001b[0;32m      <a href='vscode-notebook-cell:/c%3A/Users/usuario/Documents/Launch/CursoIntroPython-main/modulo10/kata%2010.ipynb#ch0000010?line=4'>5</a>\u001b[0m \u001b[39mif\u001b[39;00m total_agua_restante \u001b[39m<\u001b[39m\u001b[39m0\u001b[39m:\n\u001b[1;32m----> <a href='vscode-notebook-cell:/c%3A/Users/usuario/Documents/Launch/CursoIntroPython-main/modulo10/kata%2010.ipynb#ch0000010?line=5'>6</a>\u001b[0m     \u001b[39mraise\u001b[39;00m \u001b[39mRuntimeError\u001b[39;00m (\u001b[39mf\u001b[39m\u001b[39m'\u001b[39m\u001b[39mNo hay suficiente agua para \u001b[39m\u001b[39m{\u001b[39;00mastronautas\u001b[39m}\u001b[39;00m\u001b[39m astronautas después de \u001b[39m\u001b[39m{\u001b[39;00mdias_faltantes\u001b[39m}\u001b[39;00m\u001b[39m dias\u001b[39m\u001b[39m'\u001b[39m)\n\u001b[0;32m      <a href='vscode-notebook-cell:/c%3A/Users/usuario/Documents/Launch/CursoIntroPython-main/modulo10/kata%2010.ipynb#ch0000010?line=6'>7</a>\u001b[0m \u001b[39mreturn\u001b[39;00m (\u001b[39mf\u001b[39m\u001b[39m'\u001b[39m\u001b[39mEl agua total después de \u001b[39m\u001b[39m{\u001b[39;00mdias_faltantes\u001b[39m}\u001b[39;00m\u001b[39m dias es: \u001b[39m\u001b[39m{\u001b[39;00mtotal_agua_restante\u001b[39m}\u001b[39;00m\u001b[39m'\u001b[39m)\n",
      "\u001b[1;31mRuntimeError\u001b[0m: No hay suficiente agua para 5 astronautas después de 2 dias"
     ]
    }
   ],
   "source": [
    "def agua_restante (astronautas, agua_restante, dias_faltantes):\n",
    "    uso_diario = astronautas * 11\n",
    "    uso_total = uso_diario * dias_faltantes\n",
    "    total_agua_restante = agua_restante - uso_total\n",
    "    if total_agua_restante <0:\n",
    "        raise RuntimeError (f'No hay suficiente agua para {astronautas} astronautas después de {dias_faltantes} dias')\n",
    "    return (f'El agua total después de {dias_faltantes} dias es: {total_agua_restante}')\n",
    "\n",
    "print(agua_restante (5, 100, 2))\n"
   ]
  },
  {
   "cell_type": "code",
   "execution_count": 71,
   "metadata": {},
   "outputs": [
    {
     "ename": "TypeError",
     "evalue": "unsupported operand type(s) for -: 'int' and 'str'",
     "output_type": "error",
     "traceback": [
      "\u001b[1;31m---------------------------------------------------------------------------\u001b[0m",
      "\u001b[1;31mTypeError\u001b[0m                                 Traceback (most recent call last)",
      "\u001b[1;32mc:\\Users\\usuario\\Documents\\Launch\\CursoIntroPython-main\\modulo10\\kata 10.ipynb Cell 12'\u001b[0m in \u001b[0;36m<module>\u001b[1;34m\u001b[0m\n\u001b[0;32m      <a href='vscode-notebook-cell:/c%3A/Users/usuario/Documents/Launch/CursoIntroPython-main/modulo10/kata%2010.ipynb#ch0000011?line=0'>1</a>\u001b[0m \u001b[39mtry\u001b[39;00m:\n\u001b[1;32m----> <a href='vscode-notebook-cell:/c%3A/Users/usuario/Documents/Launch/CursoIntroPython-main/modulo10/kata%2010.ipynb#ch0000011?line=1'>2</a>\u001b[0m     agua_restante(\u001b[39m4\u001b[39;49m,\u001b[39m100\u001b[39;49m,\u001b[39m'\u001b[39;49m\u001b[39mdj\u001b[39;49m\u001b[39m'\u001b[39;49m)\n\u001b[0;32m      <a href='vscode-notebook-cell:/c%3A/Users/usuario/Documents/Launch/CursoIntroPython-main/modulo10/kata%2010.ipynb#ch0000011?line=2'>3</a>\u001b[0m \u001b[39mexcept\u001b[39;00m \u001b[39mRuntimeError\u001b[39;00m \u001b[39mas\u001b[39;00m err:\n\u001b[0;32m      <a href='vscode-notebook-cell:/c%3A/Users/usuario/Documents/Launch/CursoIntroPython-main/modulo10/kata%2010.ipynb#ch0000011?line=3'>4</a>\u001b[0m    \u001b[39mprint\u001b[39m(err)\n",
      "\u001b[1;32mc:\\Users\\usuario\\Documents\\Launch\\CursoIntroPython-main\\modulo10\\kata 10.ipynb Cell 11'\u001b[0m in \u001b[0;36magua_restante\u001b[1;34m(astronautas, agua_restante, dias_faltantes)\u001b[0m\n\u001b[0;32m      <a href='vscode-notebook-cell:/c%3A/Users/usuario/Documents/Launch/CursoIntroPython-main/modulo10/kata%2010.ipynb#ch0000010?line=1'>2</a>\u001b[0m uso_diario \u001b[39m=\u001b[39m astronautas \u001b[39m*\u001b[39m \u001b[39m11\u001b[39m\n\u001b[0;32m      <a href='vscode-notebook-cell:/c%3A/Users/usuario/Documents/Launch/CursoIntroPython-main/modulo10/kata%2010.ipynb#ch0000010?line=2'>3</a>\u001b[0m uso_total \u001b[39m=\u001b[39m uso_diario \u001b[39m*\u001b[39m dias_faltantes\n\u001b[1;32m----> <a href='vscode-notebook-cell:/c%3A/Users/usuario/Documents/Launch/CursoIntroPython-main/modulo10/kata%2010.ipynb#ch0000010?line=3'>4</a>\u001b[0m total_agua_restante \u001b[39m=\u001b[39m agua_restante \u001b[39m-\u001b[39;49m uso_total\n\u001b[0;32m      <a href='vscode-notebook-cell:/c%3A/Users/usuario/Documents/Launch/CursoIntroPython-main/modulo10/kata%2010.ipynb#ch0000010?line=4'>5</a>\u001b[0m \u001b[39mif\u001b[39;00m total_agua_restante \u001b[39m<\u001b[39m\u001b[39m0\u001b[39m:\n\u001b[0;32m      <a href='vscode-notebook-cell:/c%3A/Users/usuario/Documents/Launch/CursoIntroPython-main/modulo10/kata%2010.ipynb#ch0000010?line=5'>6</a>\u001b[0m     \u001b[39mraise\u001b[39;00m \u001b[39mRuntimeError\u001b[39;00m (\u001b[39mf\u001b[39m\u001b[39m'\u001b[39m\u001b[39mNo hay suficiente agua para \u001b[39m\u001b[39m{\u001b[39;00mastronautas\u001b[39m}\u001b[39;00m\u001b[39m astronautas después de \u001b[39m\u001b[39m{\u001b[39;00mdias_faltantes\u001b[39m}\u001b[39;00m\u001b[39m dias\u001b[39m\u001b[39m'\u001b[39m)\n",
      "\u001b[1;31mTypeError\u001b[0m: unsupported operand type(s) for -: 'int' and 'str'"
     ]
    }
   ],
   "source": [
    "try:\n",
    "    agua_restante(4,100,'dj')\n",
    "except RuntimeError as err:\n",
    "   print(err)"
   ]
  },
  {
   "cell_type": "code",
   "execution_count": 84,
   "metadata": {},
   "outputs": [
    {
     "ename": "TypeError",
     "evalue": "La información debería ser del tipo int pero se recibido: '3'",
     "output_type": "error",
     "traceback": [
      "\u001b[1;31m---------------------------------------------------------------------------\u001b[0m",
      "\u001b[1;31mTypeError\u001b[0m                                 Traceback (most recent call last)",
      "\u001b[1;32mc:\\Users\\usuario\\Documents\\Launch\\CursoIntroPython-main\\modulo10\\kata 10.ipynb Cell 13'\u001b[0m in \u001b[0;36magua_restante\u001b[1;34m(astronautas, agua_restante, dias_faltantes)\u001b[0m\n\u001b[0;32m      <a href='vscode-notebook-cell:/c%3A/Users/usuario/Documents/Launch/CursoIntroPython-main/modulo10/kata%2010.ipynb#ch0000012?line=2'>3</a>\u001b[0m \u001b[39mtry\u001b[39;00m:\n\u001b[1;32m----> <a href='vscode-notebook-cell:/c%3A/Users/usuario/Documents/Launch/CursoIntroPython-main/modulo10/kata%2010.ipynb#ch0000012?line=3'>4</a>\u001b[0m     argumento \u001b[39m/\u001b[39;49m\u001b[39m10\u001b[39;49m\n\u001b[0;32m      <a href='vscode-notebook-cell:/c%3A/Users/usuario/Documents/Launch/CursoIntroPython-main/modulo10/kata%2010.ipynb#ch0000012?line=4'>5</a>\u001b[0m \u001b[39mexcept\u001b[39;00m \u001b[39mTypeError\u001b[39;00m:\n",
      "\u001b[1;31mTypeError\u001b[0m: unsupported operand type(s) for /: 'str' and 'int'",
      "\nDuring handling of the above exception, another exception occurred:\n",
      "\u001b[1;31mTypeError\u001b[0m                                 Traceback (most recent call last)",
      "\u001b[1;32mc:\\Users\\usuario\\Documents\\Launch\\CursoIntroPython-main\\modulo10\\kata 10.ipynb Cell 13'\u001b[0m in \u001b[0;36m<module>\u001b[1;34m\u001b[0m\n\u001b[0;32m     <a href='vscode-notebook-cell:/c%3A/Users/usuario/Documents/Launch/CursoIntroPython-main/modulo10/kata%2010.ipynb#ch0000012?line=10'>11</a>\u001b[0m         \u001b[39mraise\u001b[39;00m \u001b[39mRuntimeError\u001b[39;00m (\u001b[39mf\u001b[39m\u001b[39m'\u001b[39m\u001b[39mNo hay suficiente agua para \u001b[39m\u001b[39m{\u001b[39;00mastronautas\u001b[39m}\u001b[39;00m\u001b[39m astronautas después de \u001b[39m\u001b[39m{\u001b[39;00mdias_faltantes\u001b[39m}\u001b[39;00m\u001b[39m dias\u001b[39m\u001b[39m'\u001b[39m)\n\u001b[0;32m     <a href='vscode-notebook-cell:/c%3A/Users/usuario/Documents/Launch/CursoIntroPython-main/modulo10/kata%2010.ipynb#ch0000012?line=11'>12</a>\u001b[0m     \u001b[39mreturn\u001b[39;00m (\u001b[39mf\u001b[39m\u001b[39m'\u001b[39m\u001b[39mEl agua total después de \u001b[39m\u001b[39m{\u001b[39;00mdias_faltantes\u001b[39m}\u001b[39;00m\u001b[39m dias es: \u001b[39m\u001b[39m{\u001b[39;00mtotal_agua_restante\u001b[39m}\u001b[39;00m\u001b[39m'\u001b[39m)\n\u001b[1;32m---> <a href='vscode-notebook-cell:/c%3A/Users/usuario/Documents/Launch/CursoIntroPython-main/modulo10/kata%2010.ipynb#ch0000012?line=13'>14</a>\u001b[0m \u001b[39mprint\u001b[39m(agua_restante(\u001b[39m\"\u001b[39;49m\u001b[39m3\u001b[39;49m\u001b[39m\"\u001b[39;49m, \u001b[39m5\u001b[39;49m ,\u001b[39m5\u001b[39;49m))\n",
      "\u001b[1;32mc:\\Users\\usuario\\Documents\\Launch\\CursoIntroPython-main\\modulo10\\kata 10.ipynb Cell 13'\u001b[0m in \u001b[0;36magua_restante\u001b[1;34m(astronautas, agua_restante, dias_faltantes)\u001b[0m\n\u001b[0;32m      <a href='vscode-notebook-cell:/c%3A/Users/usuario/Documents/Launch/CursoIntroPython-main/modulo10/kata%2010.ipynb#ch0000012?line=3'>4</a>\u001b[0m         argumento \u001b[39m/\u001b[39m\u001b[39m10\u001b[39m\n\u001b[0;32m      <a href='vscode-notebook-cell:/c%3A/Users/usuario/Documents/Launch/CursoIntroPython-main/modulo10/kata%2010.ipynb#ch0000012?line=4'>5</a>\u001b[0m     \u001b[39mexcept\u001b[39;00m \u001b[39mTypeError\u001b[39;00m:\n\u001b[1;32m----> <a href='vscode-notebook-cell:/c%3A/Users/usuario/Documents/Launch/CursoIntroPython-main/modulo10/kata%2010.ipynb#ch0000012?line=5'>6</a>\u001b[0m         \u001b[39mraise\u001b[39;00m \u001b[39mTypeError\u001b[39;00m (\u001b[39mf\u001b[39m\u001b[39m\"\u001b[39m\u001b[39mLa información debería ser del tipo int pero se recibido: \u001b[39m\u001b[39m'\u001b[39m\u001b[39m{\u001b[39;00margumento\u001b[39m}\u001b[39;00m\u001b[39m'\u001b[39m\u001b[39m\"\u001b[39m)\n\u001b[0;32m      <a href='vscode-notebook-cell:/c%3A/Users/usuario/Documents/Launch/CursoIntroPython-main/modulo10/kata%2010.ipynb#ch0000012?line=6'>7</a>\u001b[0m uso_diario \u001b[39m=\u001b[39m astronautas \u001b[39m*\u001b[39m \u001b[39m11\u001b[39m\n\u001b[0;32m      <a href='vscode-notebook-cell:/c%3A/Users/usuario/Documents/Launch/CursoIntroPython-main/modulo10/kata%2010.ipynb#ch0000012?line=7'>8</a>\u001b[0m uso_total \u001b[39m=\u001b[39m uso_diario \u001b[39m*\u001b[39m dias_faltantes\n",
      "\u001b[1;31mTypeError\u001b[0m: La información debería ser del tipo int pero se recibido: '3'"
     ]
    }
   ],
   "source": [
    "def agua_restante(astronautas, agua_restante, dias_faltantes):\n",
    "    for argumento in [astronautas, agua_restante, dias_faltantes]:\n",
    "        try:\n",
    "            argumento /10\n",
    "        except TypeError:\n",
    "            raise TypeError (f\"La información debería ser del tipo int pero se recibido: '{argumento}'\")\n",
    "    uso_diario = astronautas * 11\n",
    "    uso_total = uso_diario * dias_faltantes\n",
    "    total_agua_restante = agua_restante - uso_total\n",
    "    if total_agua_restante <0:\n",
    "        raise RuntimeError (f'No hay suficiente agua para {astronautas} astronautas después de {dias_faltantes} dias')\n",
    "    return (f'El agua total después de {dias_faltantes} dias es: {total_agua_restante}')\n",
    "\n",
    "print(agua_restante(\"3\", 5 ,5))\n",
    "                  "
   ]
  },
  {
   "cell_type": "code",
   "execution_count": 83,
   "metadata": {},
   "outputs": [
    {
     "ename": "SyntaxError",
     "evalue": "expected 'except' or 'finally' block (1222145139.py, line 2)",
     "output_type": "error",
     "traceback": [
      "\u001b[1;36m  Input \u001b[1;32mIn [83]\u001b[1;36m\u001b[0m\n\u001b[1;33m    agua_restante(\"3\", 5 ,5)\u001b[0m\n\u001b[1;37m                            ^\u001b[0m\n\u001b[1;31mSyntaxError\u001b[0m\u001b[1;31m:\u001b[0m expected 'except' or 'finally' block\n"
     ]
    }
   ],
   "source": [
    "try:\n",
    "    agua_restante(\"3\", 5 ,5)"
   ]
  }
 ],
 "metadata": {
  "interpreter": {
   "hash": "df59b04e9978eb50557051abc32c5ae29d7f79906771ab2cd828a013e4cdf466"
  },
  "kernelspec": {
   "display_name": "Python 3.10.2 64-bit",
   "language": "python",
   "name": "python3"
  },
  "language_info": {
   "codemirror_mode": {
    "name": "ipython",
    "version": 3
   },
   "file_extension": ".py",
   "mimetype": "text/x-python",
   "name": "python",
   "nbconvert_exporter": "python",
   "pygments_lexer": "ipython3",
   "version": "3.10.2"
  },
  "orig_nbformat": 4
 },
 "nbformat": 4,
 "nbformat_minor": 2
}
